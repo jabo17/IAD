{
 "cells": [
  {
   "cell_type": "markdown",
   "metadata": {},
   "source": [
    "### Zelluläre Automaten"
   ]
  },
  {
   "cell_type": "code",
   "execution_count": null,
   "metadata": {},
   "outputs": [],
   "source": [
    "# return ca2\n",
    "# Vorbedingung ca1 ist Zustand zu T\n",
    "# Nachbedingung ca2 ist Zustand zu T+1\n",
    "# Ohne link/rechten Rand: -1 bzw. n haben, als nicht existierende Zellen, konsequent den Zustand \" \"\n",
    "def ca_step(ca1, rule):\n",
    "    ca2 = \"\"\n",
    "    for i in range(len(ca1)):\n",
    "        if(i==0):\n",
    "            ca2 += rule[\" \" + ca1[0:2]]\n",
    "        elif(i==len(ca1)-1):\n",
    "            ca2 += rule[ca1[len(ca1)-2:] + \" \"]\n",
    "        else:\n",
    "            ca2 += rule[ca1[i-1:i+2]]\n",
    "    return ca2"
   ]
  },
  {
   "cell_type": "code",
   "execution_count": null,
   "metadata": {},
   "outputs": [],
   "source": [
    "def elementary1():\n",
    "    #max 2^3 Regeln: 2 Zustände pro Zelle und der nächste hängt von drei Zuständen ab\n",
    "    # comment: hier hätten wir das Ergebnis noch zusammenfassen können: insgesamt hat man 2^8 Regelkombinationen\n",
    "    #wieso max? bestimmte regel-definitionen könnten andere ausschließen, bzw. falls bestimmte Zustandketten von Zellen nie     eingelesen werden sollten\n",
    "    rule = {\n",
    "        \"   \": \" \",\n",
    "        \" * \": \" \",\n",
    "        \"*  \": \"*\",\n",
    "        \"  *\": \"*\",\n",
    "        \"** \": \"*\",\n",
    "        \" **\": \"*\",\n",
    "        \"* *\": \" \",\n",
    "        \"***\": \" \",\n",
    "    }\n",
    "    ca = \"                                  *                                    \"\n",
    "    print(ca)\n",
    "    for i in range(30):\n",
    "        ca = ca_step(ca, rule)\n",
    "        print(ca)\n",
    "#test\n",
    "elementary1()"
   ]
  },
  {
   "cell_type": "code",
   "execution_count": null,
   "metadata": {},
   "outputs": [],
   "source": [
    "def elementary2():\n",
    "    rule = {\n",
    "        \"   \": \" \",\n",
    "        \" * \": \" \",\n",
    "        \"*  \": \"*\",\n",
    "        \"  *\": \"*\",\n",
    "        \"** \": \" \", #veraendert\n",
    "        \" **\": \" \", #veraendert\n",
    "        \"* *\": \" \",\n",
    "        \"***\": \" \",\n",
    "    }\n",
    "    ca = \"                                  *                                    \"\n",
    "    print(ca)\n",
    "    for i in range(30):\n",
    "        ca = ca_step(ca, rule)\n",
    "        print(ca)\n",
    "#test\n",
    "elementary2()\n",
    "#offensichtlich beschreiben die veränderten regeln zustaende, die nicht erreicht werden"
   ]
  },
  {
   "cell_type": "code",
   "execution_count": null,
   "metadata": {},
   "outputs": [],
   "source": [
    "def elementary3():\n",
    "    rule = {\n",
    "        \"   \": \" \",\n",
    "        \" * \": \" \",\n",
    "        \"*  \": \"*\",\n",
    "        \"  *\": \" \", #veraendert\n",
    "        \"** \": \" \", #veraendert\n",
    "        \" **\": \" \", #veraendert\n",
    "        \"* *\": \" \",\n",
    "        \"***\": \" \",\n",
    "    }\n",
    "    ca = \"                                  *                                    \"\n",
    "    print(ca)\n",
    "    for i in range(30):\n",
    "        ca = ca_step(ca, rule)\n",
    "        print(ca)\n",
    "#test\n",
    "elementary3()"
   ]
  },
  {
   "cell_type": "code",
   "execution_count": null,
   "metadata": {},
   "outputs": [],
   "source": [
    "def elementary4():\n",
    "    rule = {\n",
    "        \"   \": \" \",\n",
    "        \" * \": \"*\", #veraendert\n",
    "        \"*  \": \"*\",\n",
    "        \"  *\": \" \", #veraendert\n",
    "        \"** \": \"*\",\n",
    "        \" **\": \"*\",\n",
    "        \"* *\": \"*\", #veraendert\n",
    "        \"***\": \" \",\n",
    "    }\n",
    "    ca = \"                                  *                                    \"\n",
    "    print(ca)\n",
    "    for i in range(30):\n",
    "        ca = ca_step(ca, rule)\n",
    "        print(ca)\n",
    "#test\n",
    "elementary4()"
   ]
  },
  {
   "cell_type": "code",
   "execution_count": 80,
   "metadata": {},
   "outputs": [
    {
     "output_type": "stream",
     "name": "stdout",
     "text": "#        o-  # \n #       o-   # \n #      o-    # \n #     o-     # \n #    o-      # \n #   o-       # \n #  o-        # \n # o-         # \n #o-          # \n #o           # \n #-o          # \n # -o         # \n #  -o        # \n #   -o       # \n #    -o      # \n #     -o     # \n #      -o    # \n #       -o   # \n #        -o  # \n #         -o # \n #          -o# \n #           o# \n #          o-# \n #         o- # \n #        o-  # \n #       o-   # \n #      o-    # \n #     o-     # \n #    o-      # \n #   o-       # \n #  o-        # \n # o-         # \n #o-          # \n #o           # \n #-o          # \n # -o         # \n #  -o        # \n #   -o       # \n #    -o      # \n #     -o     # \n #      -o    # \n #       -o   # \n #        -o  # \n #         -o # \n #          -o# \n #           o# \n #          o-# \n #         o- # \n #        o-  # \n #       o-   # \n #      o-    # \n #     o-     # \n #    o-      # \n #   o-       # \n #  o-        # \n # o-         # \n #o-          # \n #o           # \n #-o          # \n # -o         # \n #  -o        # \n #   -o       # \n #    -o      # \n #     -o     # \n #      -o    # \n #       -o   # \n #        -o  # \n #         -o # \n #          -o# \n #           o# \n #          o-# \n #         o- # \n #        o-  # \n #       o-   # \n #      o-    # \n #     o-     # \n #    o-      # \n #   o-       # \n #  o-        # \n # o-         # \n #o-          # \n #o           # \n #-o          # \n # -o         # \n #  -o        # \n #   -o       # \n #    -o      # \n #     -o     # \n #      -o    # \n #       -o   # \n #        -o  # \n #         -o # \n #          -o# \n #           o# \n"
    },
    {
     "output_type": "error",
     "ename": "KeyboardInterrupt",
     "evalue": "",
     "traceback": [
      "\u001b[0;31m---------------------------------------------------------------------------\u001b[0m",
      "\u001b[0;31mKeyboardInterrupt\u001b[0m                         Traceback (most recent call last)",
      "\u001b[0;32m<ipython-input-80-519627eb6c5e>\u001b[0m in \u001b[0;36m<module>\u001b[0;34m\u001b[0m\n\u001b[1;32m     37\u001b[0m         \u001b[0mtime\u001b[0m\u001b[0;34m.\u001b[0m\u001b[0msleep\u001b[0m\u001b[0;34m(\u001b[0m\u001b[0;36m1\u001b[0m\u001b[0;34m)\u001b[0m\u001b[0;34m\u001b[0m\u001b[0;34m\u001b[0m\u001b[0m\n\u001b[1;32m     38\u001b[0m \u001b[0;31m#test\u001b[0m\u001b[0;34m\u001b[0m\u001b[0;34m\u001b[0m\u001b[0;34m\u001b[0m\u001b[0m\n\u001b[0;32m---> 39\u001b[0;31m \u001b[0mping_pong\u001b[0m\u001b[0;34m(\u001b[0m\u001b[0;34m)\u001b[0m\u001b[0;34m\u001b[0m\u001b[0;34m\u001b[0m\u001b[0m\n\u001b[0m",
      "\u001b[0;32m<ipython-input-80-519627eb6c5e>\u001b[0m in \u001b[0;36mping_pong\u001b[0;34m()\u001b[0m\n\u001b[1;32m     35\u001b[0m         \u001b[0mca\u001b[0m \u001b[0;34m=\u001b[0m \u001b[0mca_step\u001b[0m\u001b[0;34m(\u001b[0m\u001b[0mca\u001b[0m\u001b[0;34m,\u001b[0m \u001b[0mrule\u001b[0m\u001b[0;34m)\u001b[0m\u001b[0;34m\u001b[0m\u001b[0;34m\u001b[0m\u001b[0m\n\u001b[1;32m     36\u001b[0m         \u001b[0mprint\u001b[0m\u001b[0;34m(\u001b[0m\u001b[0mca\u001b[0m\u001b[0;34m)\u001b[0m\u001b[0;34m\u001b[0m\u001b[0;34m\u001b[0m\u001b[0m\n\u001b[0;32m---> 37\u001b[0;31m         \u001b[0mtime\u001b[0m\u001b[0;34m.\u001b[0m\u001b[0msleep\u001b[0m\u001b[0;34m(\u001b[0m\u001b[0;36m1\u001b[0m\u001b[0;34m)\u001b[0m\u001b[0;34m\u001b[0m\u001b[0;34m\u001b[0m\u001b[0m\n\u001b[0m\u001b[1;32m     38\u001b[0m \u001b[0;31m#test\u001b[0m\u001b[0;34m\u001b[0m\u001b[0;34m\u001b[0m\u001b[0;34m\u001b[0m\u001b[0m\n\u001b[1;32m     39\u001b[0m \u001b[0mping_pong\u001b[0m\u001b[0;34m(\u001b[0m\u001b[0;34m)\u001b[0m\u001b[0;34m\u001b[0m\u001b[0;34m\u001b[0m\u001b[0m\n",
      "\u001b[0;31mKeyboardInterrupt\u001b[0m: "
     ]
    }
   ],
   "source": [
    "import time;\n",
    "def ping_pong():\n",
    "    rule = {\n",
    "        \"   \": \" \",\n",
    "        \"  o\": \"o\",\n",
    "        \" o-\": \"-\",\n",
    "        \"o- \": \" \",\n",
    "        \"-  \": \" \",\n",
    "        \"# o\": \"o\",\n",
    "        \"#o-\": \"o\",\n",
    "        \"#o \": \"-\",\n",
    "        \"#-o\": \" \",\n",
    "        \"# -\": \" \",\n",
    "        \"o  \": \"o\",\n",
    "        \"-o \": \"-\",\n",
    "        \" -o\": \" \",\n",
    "        \"  -\": \" \",\n",
    "        \"o #\": \"o\",\n",
    "        \"-o#\": \"o\",\n",
    "        \" o#\": \"-\",\n",
    "        \"o-#\": \" \",\n",
    "        \"- #\": \" \",\n",
    "        #walls\n",
    "        \"  #\": \" \",\n",
    "        \" # \": \"#\",\n",
    "        \"#  \": \" \",\n",
    "        \"o# \": \"#\",\n",
    "        \" #o\": \"#\",\n",
    "        \"-# \": \"#\",\n",
    "        \" #-\": \"#\"\n",
    "    }\n",
    "    ca = \" #        o-  # \"\n",
    "    print(ca)\n",
    "    while True:\n",
    "        ca = ca_step(ca, rule)\n",
    "        print(ca)\n",
    "        time.sleep(1)\n",
    "#test\n",
    "ping_pong()    "
   ]
  }
 ],
 "metadata": {
  "language_info": {
   "codemirror_mode": {
    "name": "ipython",
    "version": 3
   },
   "file_extension": ".py",
   "mimetype": "text/x-python",
   "name": "python",
   "nbconvert_exporter": "python",
   "pygments_lexer": "ipython3",
   "version": "3.8.2-final"
  },
  "orig_nbformat": 2,
  "kernelspec": {
   "name": "python38264bite0b74fa9f6af47baa15e0261dabdd5cd",
   "display_name": "Python 3.8.2 64-bit"
  }
 },
 "nbformat": 4,
 "nbformat_minor": 2
}